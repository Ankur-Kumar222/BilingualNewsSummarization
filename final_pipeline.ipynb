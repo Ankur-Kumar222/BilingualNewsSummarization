{
 "cells": [
  {
   "cell_type": "code",
   "execution_count": 1,
   "metadata": {},
   "outputs": [
    {
     "data": {
      "text/plain": [
       "False"
      ]
     },
     "execution_count": 1,
     "metadata": {},
     "output_type": "execute_result"
    }
   ],
   "source": [
    "from newsapi import NewsApiClient\n",
    "import pandas as pd\n",
    "import numpy as np1\n",
    "from datetime import datetime, timedelta\n",
    "import requests\n",
    "import json\n",
    "from bs4 import BeautifulSoup\n",
    "from dotenv import load_dotenv\n",
    "import os\n",
    "\n",
    "load_dotenv()\n"
   ]
  },
  {
   "cell_type": "code",
   "execution_count": 2,
   "metadata": {},
   "outputs": [],
   "source": [
    "newsapi = NewsApiClient(api_key=\"4e422ec24e774982ad908da018eb48f7\")\n",
    "data = newsapi.get_sources()\n",
    "\n",
    "# Classify sources by category\n",
    "categories = {}\n",
    "countries = {}"
   ]
  },
  {
   "cell_type": "code",
   "execution_count": 3,
   "metadata": {},
   "outputs": [],
   "source": [
    "for source in data['sources']:\n",
    "    category = source['category']\n",
    "    country = source['country']\n",
    "    \n",
    "    if category not in categories:\n",
    "        categories[category] = []\n",
    "    categories[category].append(source)\n",
    "    \n",
    "    if country not in countries:\n",
    "        countries[country] = []\n",
    "    countries[country].append(source)\n",
    "\n",
    "def create_dataframe(data_dict, outer_key_name, inner_key_name):\n",
    "    records = []\n",
    "    for outer_key, sources in data_dict.items():\n",
    "        for source in sources:\n",
    "            record = {\n",
    "                outer_key_name: outer_key,\n",
    "                inner_key_name: source['name'],\n",
    "                'id': source['id'],\n",
    "                'description': source['description'],\n",
    "                'url': source['url'],\n",
    "                'category': source['category'],\n",
    "                'language': source['language'],\n",
    "                'country': source['country']\n",
    "            }\n",
    "            records.append(record)\n",
    "    return pd.DataFrame(records).set_index([outer_key_name, inner_key_name])"
   ]
  },
  {
   "cell_type": "code",
   "execution_count": 41,
   "metadata": {},
   "outputs": [],
   "source": [
    "# Create DataFrame for categories\n",
    "df_categories = create_dataframe(categories, 'Category', 'Source Name')\n",
    "yesterday_date = (datetime.now() - timedelta(days=10)).strftime('%Y-%m-%d')\n",
    "df_categories['yesterday_date'] = yesterday_date\n",
    "df_categories.drop(labels='category', axis=1, inplace=True)\n",
    "\n",
    "# Create DataFrame for countries\n",
    "df_countries = create_dataframe(countries, 'Country', 'Source Name')\n",
    "\n",
    "list_sources = ['abc-news', 'al-jazeera-english', 'bbc-news', 'google-news', 'google-news-in', 'politico', 'reuters', 'reddit-r-all', 'the-hindu', 'bloomberg', \n",
    "                'the-times-of-india', 'business-insider', 'vice-news', 'the-wall-street-journal', 'wired', 'national-geographic', 'bbc-sport', 'espn', 'techcrunch',\n",
    "                'crypto-coins-news','buzzfeed','entertainment-weekly','medical-news-today','fortune','new-scientist','the-lad-bible', 'new-york-magazine', 'the-washington-times',\n",
    "                'the-washington-post', 'cnn', 'ign', 'the-verge', 'fox-sports', 'talksport', 'the-sport-bible', 'hacker-news', 'recode', 'the-next-web', 'entertainment-weekly',\n",
    "                'time', 'the-hindu', 'cbs-news', 'asutralian-financial-review', 'business-insider-uk', 'financial-post', 'fortune', 'info-money']\n",
    "\n",
    "df_categories = df_categories[df_categories['id'].isin(list_sources)]"
   ]
  },
  {
   "cell_type": "code",
   "execution_count": 5,
   "metadata": {},
   "outputs": [],
   "source": [
    "def fetch_json(source_id, date):\n",
    "    url = (f'https://newsapi.org/v2/everything?'\n",
    "           f'sources={source_id}&'\n",
    "           f'from={date}&'\n",
    "           'sortBy=popularity&'\n",
    "           'apiKey=4e422ec24e774982ad908da018eb48f7')\n",
    "    \n",
    "    response = requests.get(url)\n",
    "    return response.json()\n"
   ]
  },
  {
   "cell_type": "code",
   "execution_count": 17,
   "metadata": {},
   "outputs": [],
   "source": [
    "def scrape_content(urls):\n",
    "    contents = []\n",
    "    for url in urls:\n",
    "        try:\n",
    "            response = requests.get(url)\n",
    "            soup = BeautifulSoup(response.content, 'html.parser')\n",
    "            article_content = soup.find_all('p')\n",
    "            content_text = ' '.join([paragraph.get_text() for paragraph in article_content])\n",
    "            contents.append(content_text)\n",
    "        except Exception as e:\n",
    "            contents.append(f\"Error: {str(e)}\")\n",
    "    return contents\n"
   ]
  },
  {
   "cell_type": "code",
   "execution_count": 18,
   "metadata": {},
   "outputs": [],
   "source": [
    "def json_to_df(data):\n",
    "    try:\n",
    "        articles = data['articles']\n",
    "        if not articles:\n",
    "            raise ValueError(\"No articles found for the given date.\")\n",
    "        \n",
    "        df = pd.DataFrame(articles)\n",
    "        df = df[['author', 'title', 'url', 'description', 'publishedAt']]\n",
    "        df.columns = ['author', 'title', 'url', 'description', 'date']\n",
    "        \n",
    "        # Adding the content column by scraping the URLs\n",
    "        df['content'] = scrape_content(df['url'])\n",
    "        \n",
    "        return df\n",
    "    except KeyError as e:\n",
    "        print(f\"KeyError: {e}\")\n",
    "        return pd.DataFrame()\n",
    "    except ValueError as e:\n",
    "        print(f\"ValueError: {e}\")\n",
    "        return pd.DataFrame()"
   ]
  },
  {
   "cell_type": "code",
   "execution_count": 19,
   "metadata": {},
   "outputs": [],
   "source": [
    "# Function to remove rows with empty content\n",
    "def remove_empty_content(df):\n",
    "    if 'content' in df.columns:\n",
    "        # Removing rows with empty content\n",
    "        df = df[df['content'].str.strip().astype(bool)]\n",
    "        df = df.reset_index(drop=True)\n",
    "    return df"
   ]
  },
  {
   "cell_type": "code",
   "execution_count": 47,
   "metadata": {},
   "outputs": [
    {
     "data": {
      "text/html": [
       "<div>\n",
       "<style scoped>\n",
       "    .dataframe tbody tr th:only-of-type {\n",
       "        vertical-align: middle;\n",
       "    }\n",
       "\n",
       "    .dataframe tbody tr th {\n",
       "        vertical-align: top;\n",
       "    }\n",
       "\n",
       "    .dataframe thead th {\n",
       "        text-align: right;\n",
       "    }\n",
       "</style>\n",
       "<table border=\"1\" class=\"dataframe\">\n",
       "  <thead>\n",
       "    <tr style=\"text-align: right;\">\n",
       "      <th></th>\n",
       "      <th></th>\n",
       "      <th>id</th>\n",
       "      <th>description</th>\n",
       "      <th>url</th>\n",
       "      <th>language</th>\n",
       "      <th>country</th>\n",
       "      <th>yesterday_date</th>\n",
       "    </tr>\n",
       "    <tr>\n",
       "      <th>Category</th>\n",
       "      <th>Source Name</th>\n",
       "      <th></th>\n",
       "      <th></th>\n",
       "      <th></th>\n",
       "      <th></th>\n",
       "      <th></th>\n",
       "      <th></th>\n",
       "    </tr>\n",
       "  </thead>\n",
       "  <tbody>\n",
       "    <tr>\n",
       "      <th>general</th>\n",
       "      <th>The Times of India</th>\n",
       "      <td>the-times-of-india</td>\n",
       "      <td>Times of India brings the Latest News and Top ...</td>\n",
       "      <td>http://timesofindia.indiatimes.com</td>\n",
       "      <td>en</td>\n",
       "      <td>in</td>\n",
       "      <td>2024-06-06</td>\n",
       "    </tr>\n",
       "  </tbody>\n",
       "</table>\n",
       "</div>"
      ],
      "text/plain": [
       "                                             id  \\\n",
       "Category Source Name                              \n",
       "general  The Times of India  the-times-of-india   \n",
       "\n",
       "                                                                   description  \\\n",
       "Category Source Name                                                             \n",
       "general  The Times of India  Times of India brings the Latest News and Top ...   \n",
       "\n",
       "                                                            url language  \\\n",
       "Category Source Name                                                       \n",
       "general  The Times of India  http://timesofindia.indiatimes.com       en   \n",
       "\n",
       "                            country yesterday_date  \n",
       "Category Source Name                                \n",
       "general  The Times of India      in     2024-06-06  "
      ]
     },
     "execution_count": 47,
     "metadata": {},
     "output_type": "execute_result"
    }
   ],
   "source": [
    "n = 12\n",
    "df_trial = df_categories.iloc[[n], :].copy()\n",
    "df_trial"
   ]
  },
  {
   "cell_type": "code",
   "execution_count": 48,
   "metadata": {},
   "outputs": [],
   "source": [
    "df_trial = df_categories.iloc[[n], :].copy()\n",
    "df_trial['data'] = df_trial.apply(\n",
    "    lambda row: json_to_df(fetch_json(row['id'], row['yesterday_date'])),\n",
    "    axis=1\n",
    ")\n",
    "\n",
    "# Apply the function to clean up each DataFrame in the 'data' column\n",
    "df_trial['data'] = df_trial['data'].apply(remove_empty_content)\n",
    "# Remove rows where 'data' column has empty DataFrames\n",
    "df_trial1 = df_trial[df_trial['data'].apply(lambda x: not x.empty)].copy()"
   ]
  },
  {
   "cell_type": "code",
   "execution_count": 54,
   "metadata": {},
   "outputs": [
    {
     "name": "stderr",
     "output_type": "stream",
     "text": [
      "C:\\Users\\abofm\\AppData\\Local\\Temp\\ipykernel_17088\\3725325152.py:1: FutureWarning: Series.__getitem__ treating keys as positions is deprecated. In a future version, integer keys will always be treated as labels (consistent with DataFrame behavior). To access a value by position, use `ser.iloc[pos]`\n",
      "  text = df_trial1['data'][0]['content'][5]\n"
     ]
    }
   ],
   "source": [
    "text = df_trial1['data'][0]['content'][5]"
   ]
  },
  {
   "cell_type": "code",
   "execution_count": 55,
   "metadata": {},
   "outputs": [
    {
     "name": "stdout",
     "output_type": "stream",
     "text": [
      "The text has been saved to output.txt\n"
     ]
    }
   ],
   "source": [
    "# Replace each period with a period followed by a newline character\n",
    "formatted_text = text.replace('.', '.\\n')\n",
    "\n",
    "# Define the filename\n",
    "filename = 'output.txt'\n",
    "\n",
    "# Open the file in write mode and save the formatted text\n",
    "with open(filename, 'w',encoding='utf-8') as file:\n",
    "    file.write(formatted_text)\n",
    "\n",
    "print(f\"The text has been saved to {filename}\")"
   ]
  },
  {
   "cell_type": "code",
   "execution_count": 43,
   "metadata": {},
   "outputs": [
    {
     "data": {
      "text/html": [
       "<div>\n",
       "<style scoped>\n",
       "    .dataframe tbody tr th:only-of-type {\n",
       "        vertical-align: middle;\n",
       "    }\n",
       "\n",
       "    .dataframe tbody tr th {\n",
       "        vertical-align: top;\n",
       "    }\n",
       "\n",
       "    .dataframe thead th {\n",
       "        text-align: right;\n",
       "    }\n",
       "</style>\n",
       "<table border=\"1\" class=\"dataframe\">\n",
       "  <thead>\n",
       "    <tr style=\"text-align: right;\">\n",
       "      <th></th>\n",
       "      <th></th>\n",
       "      <th>id</th>\n",
       "      <th>description</th>\n",
       "      <th>url</th>\n",
       "      <th>language</th>\n",
       "      <th>country</th>\n",
       "      <th>yesterday_date</th>\n",
       "      <th>data</th>\n",
       "    </tr>\n",
       "    <tr>\n",
       "      <th>Category</th>\n",
       "      <th>Source Name</th>\n",
       "      <th></th>\n",
       "      <th></th>\n",
       "      <th></th>\n",
       "      <th></th>\n",
       "      <th></th>\n",
       "      <th></th>\n",
       "      <th></th>\n",
       "    </tr>\n",
       "  </thead>\n",
       "  <tbody>\n",
       "    <tr>\n",
       "      <th>general</th>\n",
       "      <th>The Hindu</th>\n",
       "      <td>the-hindu</td>\n",
       "      <td>The Hindu. latest news, analysis, comment, in-...</td>\n",
       "      <td>http://www.thehindu.com</td>\n",
       "      <td>en</td>\n",
       "      <td>in</td>\n",
       "      <td>2024-06-06</td>\n",
       "      <td>Empty DataFrame\n",
       "Columns: []\n",
       "Index: []</td>\n",
       "    </tr>\n",
       "  </tbody>\n",
       "</table>\n",
       "</div>"
      ],
      "text/plain": [
       "                             id  \\\n",
       "Category Source Name              \n",
       "general  The Hindu    the-hindu   \n",
       "\n",
       "                                                            description  \\\n",
       "Category Source Name                                                      \n",
       "general  The Hindu    The Hindu. latest news, analysis, comment, in-...   \n",
       "\n",
       "                                          url language country yesterday_date  \\\n",
       "Category Source Name                                                            \n",
       "general  The Hindu    http://www.thehindu.com       en      in     2024-06-06   \n",
       "\n",
       "                                                       data  \n",
       "Category Source Name                                         \n",
       "general  The Hindu    Empty DataFrame\n",
       "Columns: []\n",
       "Index: []  "
      ]
     },
     "execution_count": 43,
     "metadata": {},
     "output_type": "execute_result"
    }
   ],
   "source": [
    "df_trial"
   ]
  },
  {
   "cell_type": "code",
   "execution_count": null,
   "metadata": {},
   "outputs": [],
   "source": []
  }
 ],
 "metadata": {
  "kernelspec": {
   "display_name": "Python 3",
   "language": "python",
   "name": "python3"
  },
  "language_info": {
   "codemirror_mode": {
    "name": "ipython",
    "version": 3
   },
   "file_extension": ".py",
   "mimetype": "text/x-python",
   "name": "python",
   "nbconvert_exporter": "python",
   "pygments_lexer": "ipython3",
   "version": "3.11.4"
  }
 },
 "nbformat": 4,
 "nbformat_minor": 2
}
