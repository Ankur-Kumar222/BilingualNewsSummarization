{
 "cells": [
  {
   "cell_type": "code",
   "execution_count": 4,
   "metadata": {},
   "outputs": [],
   "source": [
    "from newsapi import NewsApiClient"
   ]
  },
  {
   "cell_type": "code",
   "execution_count": 5,
   "metadata": {},
   "outputs": [],
   "source": [
    "newsapi = NewsApiClient(api_key='123179ff6a8c481794ca5b793bd4e84e')\n",
    "\n",
    "# /v2/top-headlines\n",
    "top_headlines = newsapi.get_top_headlines(category='sports',\n",
    "                                        language='en',\n",
    "                                        )"
   ]
  },
  {
   "cell_type": "code",
   "execution_count": 6,
   "metadata": {},
   "outputs": [
    {
     "name": "stdout",
     "output_type": "stream",
     "text": [
      "{'status': 'ok', 'totalResults': 118, 'articles': [{'source': {'id': None, 'name': 'Nbcsportsbayarea.com'}, 'author': 'Alex Pavlovic', 'title': 'Giants notes: Help on the way as injured veterans rehab in Triple-A - NBC Sports Bay Area', 'description': 'A few notable veterans began rehab assignments in Triple-A and soon should be available to help the Giants.', 'url': 'http://www.nbcsportsbayarea.com/mlb/san-francisco-giants/injured-veterans-triple-a-rehab/1740532/', 'urlToImage': 'https://media.nbcsportsbayarea.com/2024/03/GettyImages-1518438270-e1711647420415.jpg?quality=85&strip=all&crop=0px%2C60px%2C1199px%2C675px&resize=1200%2C675', 'publishedAt': '2024-06-02T20:23:34Z', 'content': 'SAN FRANCISCO -- The Yankees had six former All-Stars in their lineup on Saturday night. The Giants countered with one that featured five players who were in Triple-A earlier this season, but help sh… [+3489 chars]'}, {'source': {'id': None, 'name': 'MLB.com'}, 'author': 'MLB.com', 'title': 'MLB Gameday: Rays at Orioles, Probable Pitchers, Lineups, and more - MLB.com', 'description': None, 'url': 'https://www.mlb.com/gameday/rays-vs-orioles/2024/06/02/747030', 'urlToImage': None, 'publishedAt': '2024-06-02T19:14:57Z', 'content': None}, {'source': {'id': 'bleacher-report', 'name': 'Bleacher Report'}, 'author': 'Joseph Zucker', 'title': \"Chennedy Carter Rips Caitlin Clark's Skills and Defends Angel Reese amid Viral Videos - Bleacher Report\", 'description': \"Many basketball fans were excited to see a budding rivalry between the Chicago Sky's Angel Reese and Indiana Fever's Caitlin Clark blossom this year, but…\", 'url': 'https://bleacherreport.com/articles/10123334-chennedy-carter-rips-caitlin-clarks-skills-and-defends-angel-reese-amid-viral-videos', 'urlToImage': 'https://media.bleacherreport.com/image/upload/x_0,y_577,w_1800,h_1199,c_crop/c_fill,g_faces,w_3800,h_2000,q_95/v1717349774/aenaj3cl9mj1c7p9jmyy.jpg', 'publishedAt': '2024-06-02T19:07:30Z', 'content': \"Michael Gonzales/NBAE via Getty Images\\r\\nMany basketball fans were excited to see a budding rivalry between the Chicago Sky's Angel Reese and Indiana Fever's Caitlin Clark blossom this year, but anoth… [+3173 chars]\"}, {'source': {'id': None, 'name': 'Atlutd.com'}, 'author': 'atlutd', 'title': 'Important information regarding the Atlanta United vs Charlotte FC match - Atlanta United FC', 'description': 'The match will be played as scheduled despite the water main breaks in Atlanta.', 'url': 'https://www.atlutd.com/news/important-information-atlanta-united-vs-charlotte-fc-match-june-2-water-atlanta', 'urlToImage': 'https://images.mlssoccer.com/image/private/t_q-best/mls-atl/ppc0u2ghilnn6fkhfm4k.jpg', 'publishedAt': '2024-06-02T18:37:03Z', 'content': None}, {'source': {'id': None, 'name': 'pgatour.com'}, 'author': 'Kevin Prise', 'title': 'Local fan caddies two holes for C.T. Pan at RBC Canadian Open - PGA TOUR - PGA TOUR', 'description': 'ANCASTER, Ontario – Paul Emerson doesn’t fancy himself a good golfer, but he’s a scratch “golf nut.” He attended Sunday’s final round as the RBC Canadian Open a', 'url': 'https://www.pgatour.com/article/news/latest/2024/06/02/local-fan-caddies-for-ct-pan-rbc-canadian-open-fluff', 'urlToImage': 'https://res.cloudinary.com/pgatour-prod/w_1200,h_628,c_fill,f_auto,q_auto/pgatour/news/editorial/2024/06/02/ct-pan-caddie.jpg', 'publishedAt': '2024-06-02T18:32:06Z', 'content': 'ANCASTER, Ontario Paul Emerson doesnt fancy himself a good golfer, but hes a scratch golf nut. He attended Sundays final round as the RBC Canadian Open as a spectator, with an unexpected inside-the-r… [+1426 chars]'}, {'source': {'id': None, 'name': 'AL.com'}, 'author': 'Joseph Goodman | jgoodman@al.com', 'title': 'Sunday schedule change for Birmingham-Southern at College World Series - AL.com', 'description': 'The inspiring Birmingham-Southern baseball team faces another elimination game.', 'url': 'https://www.al.com/sports/2024/06/sunday-schedule-change-for-birmingham-southern-at-college-world-series.html', 'urlToImage': 'https://www.al.com/resizer/v2/25WKFY4WBJBYVI267QZACEU53Q.jpg?auth=2318c7abcba23b25560c9096159f6981c9328dcacb1d80c264b48d4fa3c7c3a7&width=1280&quality=90', 'publishedAt': '2024-06-02T17:53:00Z', 'content': 'Rain showers in the Cleveland area pushed back Sundays set of games at the Division III Baseball World Series.\\r\\nBirmingham-Southern is scheduled to off against Wisconsin-Whitewater at 4 p.m. CT at Cl… [+991 chars]'}, {'source': {'id': 'espn', 'name': 'ESPN'}, 'author': None, 'title': 'Stars to play AHL MVP Mavrik Bourque vs. Oilers in Game 6 - ESPN', 'description': 'American Hockey League MVP Mavrik Bourque will be in the lineup for the Stars with their season on the line Sunday against the Oilers in Game 6.', 'url': 'https://www.espn.com/nhl/story/_/id/40262882/stars-play-ahl-mvp-mavrik-bourque-vs-oilers-game-6', 'urlToImage': 'https://a.espncdn.com/combiner/i?img=%2Fphoto%2F2024%2F0602%2Fr1340759_1296x729_16%2D9.jpg', 'publishedAt': '2024-06-02T17:35:00Z', 'content': 'American Hockey League MVP Mavrik Bourque will be in the lineup for the Dallas Stars on Sunday when they visit the Edmonton Oilers in Game 6 of the Western Conference final.\\r\\nCoach Pete DeBoer told r… [+761 chars]'}, {'source': {'id': None, 'name': 'NBCSports.com'}, 'author': 'Mike Florio', 'title': 'If Ben Johnson is waiting for a perfect situation, he could be waiting a while - NBC Sports', 'description': 'Lions offensive coordinator Ben Johnson opted not to pursue head-coaching vacancies this year, in part because he wants to enjoy more of the sudden salad days in Detroit.', 'url': 'https://www.nbcsports.com/nfl/profootballtalk/rumor-mill/news/if-ben-johnson-is-waiting-for-a-perfect-situation-he-could-be-waiting-a-while', 'urlToImage': 'https://nbcsports.brightspotcdn.com/dims4/default/538ac6c/2147483647/strip/true/crop/4390x2469+0+0/resize/1440x810!/quality/90/?url=https%3A%2F%2Fnbc-sports-production-nbc-sports.s3.us-east-1.amazonaws.com%2Fbrightspot%2F85%2Fb4%2Feefee0e84e44850cd408cb514a01%2Fhttps-delivery-gettyimages.com%2Fdownloads%2F1852923009', 'publishedAt': '2024-06-02T17:16:25Z', 'content': 'Lions offensive coordinator Ben Johnson opted not to pursue head-coaching vacancies this year, in part because he wants to enjoy more of the sudden salad days in Detroit. Johnsons recent comments als… [+1097 chars]'}, {'source': {'id': None, 'name': 'Nbcsportsbayarea.com'}, 'author': 'Dalton Johnson', 'title': \"Judge's gargantuan blast stuns home crowd in Giants' loss to Yankees - Yahoo Sports\", 'description': \"New York Yankees slugger Aaron Judge's massive 464-foot home run in the first inning of the Giants' 7-3 loss left the Oracle Park crowd stunned.\", 'url': 'https://www.nbcsportsbayarea.com/mlb/san-francisco-giants/yankees-aaron-judge-giancarlo-stanton-aaron-boone/1740505/?partner=yahoo', 'urlToImage': 'https://media.zenfs.com/en/csnbayarea.com/4044e94dd1dccd77c8ff9892a0f91d40', 'publishedAt': '2024-06-02T17:15:12Z', 'content': \"Judge's gargantuan blast stuns home crowd in Giants' loss to Yankees originally appeared on NBC Sports Bay Area\\r\\nSAN FRANCISCO Aaron Judge had to have known the question was coming. Nearly two minute… [+4208 chars]\"}, {'source': {'id': None, 'name': 'Crictracker.com'}, 'author': 'CricTracker', 'title': 'RJ vs KT Live Score, Match 1 | Ratnagiri Jets vs Kolhapur Tuskers Match 1 Live Score & Ball by Ball Commentary Updates - CricTracker', 'description': 'RJ vs KT Match 1, Live Score: Get all the latest RJ vs KT Live Score of Match 1 along with ball by ball commentary & updates on CricTracker.', 'url': 'https://www.crictracker.com/live-scores/rj-vs-kt-match-1-t20-maharashtra-premier-league-02-jun-2024/', 'urlToImage': 'https://www.crictracker.com/images/CricTracker-Facebook-Preview.jpg', 'publishedAt': '2024-06-02T16:25:00Z', 'content': None}, {'source': {'id': None, 'name': 'NDTV News'}, 'author': 'NDTV Sports Desk', 'title': 'Empty Stands, Lack Of Buzz: T20 World Cup Blasted By Fans On Internet - NDTV Sports', 'description': 'Reacting to the lack of buzz in the Caribbean nation, fans on social media labelled it as sad and disappointing.', 'url': 'https://sports.ndtv.com/t20-world-cup-2024/empty-stands-lack-of-buzz-t20-world-cup-blasted-by-fans-on-internet-5801985', 'urlToImage': 'https://c.ndtvimg.com/2024-06/f0jbbh78_empty-stands-in-guyana_625x300_02_June_24.jpg?im=FeatureCrop,algorithm=dnn,width=1200,height=675', 'publishedAt': '2024-06-02T16:16:03Z', 'content': 'T20 World Cup co-hosts and two-time champions West Indies kicked off their campaign on Sunday against minnow Papua New Guinea at the Providence Stadium in Guyana. However, empty stands and lack of bu… [+3299 chars]'}, {'source': {'id': None, 'name': 'Hindustan Times'}, 'author': 'HT Sports Desk', 'title': \"Babar Azam indirectly mentions Virat Kohli's knock, feels Pakistan should have won India game at WC: 'They took it…' - Hindustan Times\", 'description': \"Babar Azam recalled Pakistan's World Cup defeat at the hands of Virat Kohli-starrer Team India. | Crickit\", 'url': 'https://www.hindustantimes.com/cricket/babar-azam-indirectly-mentions-virat-kohli-knock-feels-pakistan-should-have-won-india-game-at-wc-they-took-101717332824576.html', 'urlToImage': 'https://www.hindustantimes.com/ht-img/img/2024/06/02/1600x900/babar_azam_virat_kohli_getty_images_1717344455320_1717344460065.JPG', 'publishedAt': '2024-06-02T16:12:38Z', 'content': \"Virat Kohli played a knock for the ages when India last met arch-rivals Pakistan at the T20 World Cup. Kohli played a majestic knock to seal a stunning win for Rohit Sharma and Co. over Babar Azam's … [+2264 chars]\"}, {'source': {'id': None, 'name': 'Hindustan Times'}, 'author': 'HT Sports Desk', 'title': 'T20 World Cup, WI vs PNG Live Score: Windies restrict Papua New Guinea to 136/8 - Hindustan Times', 'description': 'T20 World Cup, WI vs PNG Live Score: West Indies vs Papua New Guinea: PNG posted 136/8 in 20 overs vs WI, in Georgetown on Sunday.', 'url': 'https://www.hindustantimes.com/cricket/wi-vs-png-live-score-icc-t20-world-cup-2024-match-2-west-indies-vs-papua-new-guinea-t20-wc-match-scorecard-today-2-june-101717331440457.html', 'urlToImage': 'https://www.hindustantimes.com/ht-img/img/2024/06/02/550x309/GPE7tN9WcAIfPFL_1717344224524_1717344254612.jpeg', 'publishedAt': '2024-06-02T16:06:33Z', 'content': 'T20 World Cup, WI vs PNG Live Score: WI - Brandon King, Johnson Charles(w), Roston Chase, Nicholas Pooran, Rovman Powell(c), Shimron Hetmyer, Andre Russell, Romario Shepherd, Akeal Hosein, Gudakesh M… [+274 chars]'}, {'source': {'id': 'espn', 'name': 'ESPN'}, 'author': None, 'title': 'White Sox place Andrew Benintendi (Achilles) on 10-day IL - ESPN', 'description': 'The White Sox placed starting outfielder Andrew Benintendi on the 10-day injured list, citing left Achilles tendinitis.', 'url': 'https://www.espn.com/mlb/story/_/id/40262320/white-sox-place-andrew-benintendi-achilles-10-day-il', 'urlToImage': 'https://a4.espncdn.com/combiner/i?img=%2Fphoto%2F2024%2F0602%2Fr1340726_1296x729_16%2D9.jpg', 'publishedAt': '2024-06-02T16:04:00Z', 'content': \"The Chicago White Sox placed starting outfielder Andrew Benintendi on the 10-day injured list Sunday, citing left Achilles tendinitis.\\r\\nBenintendi left Saturday's game against the Milwaukee Brewers i… [+728 chars]\"}, {'source': {'id': None, 'name': 'Bleed Cubbie Blue'}, 'author': 'Al Yellon', 'title': 'Cubs roster move: David Bote recalled, Nick Madrigal optioned - Bleed Cubbie Blue', 'description': \"He's back, almost two years after his last MLB game.\", 'url': 'https://www.bleedcubbieblue.com/2024/6/2/24169876/cubs-roster-move-david-bote-recalled-nick-madrigal-optioned', 'urlToImage': 'https://cdn.vox-cdn.com/thumbor/eFwyVmm0ezKd4xiXXc6EXiJel4I=/54x183:2282x1349/fit-in/1200x630/cdn.vox-cdn.com/uploads/chorus_asset/file/25474742/1015861190.jpg', 'publishedAt': '2024-06-02T15:55:05Z', 'content': \"I've been advocating for David Bote to replace Nick Madrigal on the Cubs 26-man active roster, and today it happened:\\r\\nCubs updates:\\r\\n-David Bote selected from Iowa, Nick Madrigal optioned to Iowa, A… [+770 chars]\"}, {'source': {'id': None, 'name': 'Pitcherlist.com'}, 'author': 'Nick Pollack', 'title': 'Starting Pitcher Streamer Rankings Fantasy Baseball: 6/2 & 6/3 - Pitcher List', 'description': 'Nick Pollack ranks the starting pitcher streamers for today & tomorrow.', 'url': 'https://pitcherlist.com/starting-pitcher-streamer-rankings-fantasy-baseball-6-2-6-3-2/', 'urlToImage': 'https://pitcherlist.com/wp-content/uploads/2024/03/SP-Streamer-Rankings-07-Sunday.jpg', 'publishedAt': '2024-06-02T15:54:48Z', 'content': 'Here are today and tomorrow’s daily SP Streamer rankings for fantasy baseball.\\r\\nEvery day of the 2024 baseball season, I’ll be looking at today and tomorrow’s slate of scheduled starting pitchers and… [+10826 chars]'}, {'source': {'id': None, 'name': 'CBS Sports'}, 'author': '', 'title': 'College football odds, bets: Why Oklahoma State is undervalued as a Big 12 championship contender - CBS Sports', 'description': \"Mike Gundy's Cowboys have played for two of the last three Big 12 championships\", 'url': 'https://www.cbssports.com/college-football/news/college-football-odds-bets-why-oklahoma-state-is-undervalued-as-a-big-12-championship-contender/', 'urlToImage': 'https://sportshub.cbsistatic.com/i/r/2024/06/02/d2ca27f2-7c6a-4e73-9610-6689f329280a/thumbnail/1200x675/a5c4f7de7b87b05421b64d4162a2ecab/mike-gundy.jpg', 'publishedAt': '2024-06-02T15:28:11Z', 'content': \"There's just something about playing underdog that Mike Gundy seems to love, no matter how much he wins. Oklahoma State was picked seventh in last season's Big 12 preseason poll. Months later, the Po… [+5468 chars]\"}, {'source': {'id': None, 'name': 'NDTV News'}, 'author': 'NDTV Sports Desk', 'title': \"In USA For T20 World Cup, Video Of Virat Kohli's Security Goes Viral - NDTV Sports\", 'description': \"Virat Kohli was surrounded by tight security as he arrived at the Nassau County ground ahead of the start of India's T20 World Cup 2024 campaign.\", 'url': 'https://sports.ndtv.com/t20-world-cup-2024/in-usa-for-t20-world-cup-video-of-virat-kohlis-security-goes-viral-5799083', 'urlToImage': 'https://c.ndtvimg.com/2024-06/5g3u48h_virat-kohli-twitter_625x300_02_June_24.jpg?im=FitAndFill,algorithm=dnn,width=1200,height=675', 'publishedAt': '2024-06-02T15:25:53Z', 'content': \"Team India talisman Virat Kohli has no role to play as the men's side took on Bangladesh in the T20 World Cup 2024 warm-up game on Saturday. Virat, who reached the United States late, was rested for … [+1646 chars]\"}, {'source': {'id': None, 'name': 'Sports Illustrated'}, 'author': 'Tim Capurso', 'title': \"Fever Coach Demands Action From WNBA for 'Unacceptable' Fouls on Caitlin Clark Fouls - Sports Illustrated\", 'description': \"Fever coach Christie Sides wants the WNBA to take action after star Caitlin Clark was fouled hard by Sky guard Chennedy Carter during Indiana's 71–70 win over Chicago on Saturday.\", 'url': 'https://www.si.com/fever-coach-demands-action-wnba-unacceptable-fouls-caitlin-clark-01hzcepesgjd', 'urlToImage': 'https://images2.minutemediacdn.com/image/upload/c_crop,w_7290,h_4100,x_0,y_0/c_fill,w_1440,ar_16:9,f_auto,q_auto,g_auto/images/ImagnImages/mmsport/si/01hzcexpqmtq4m8fkn7x.jpg', 'publishedAt': '2024-06-02T15:19:02Z', 'content': \"Indiana Fever coach Christie Sides demanded action from the WNBA after rookie guard Caitlin Clark was fouled hard by Chicago Sky guard Chennedy Carter during the Fever's 7170 victory over Chicago at … [+1891 chars]\"}, {'source': {'id': None, 'name': 'Wisden.com'}, 'author': 'Ben Gardner', 'title': 'Watch: County Bowler Applauded For Choosing Not To Run Out Injured Batter | T20 Blast 2024 - Wisden', 'description': 'Chris Wood received a warm round of applause for choosing not to run out Matt Parkinson, who had been hit and hurt by a straight drive.', 'url': 'https://wisden.com/stories/county-cricket/t20-blast-2024/watch-county-bowler-applauded-for-choosing-not-to-run-out-injured-batter', 'urlToImage': 'https://cdn.wisden.com/wp-content/uploads/2024/06/Two-image-watch-piece-2024-06-02T160549.741.png', 'publishedAt': '2024-06-02T15:16:50Z', 'content': 'Hampshire Hawks bowler Chris Wood received a warm round of applause for choosing not to run out Kents Matt Parkinson, who had been hit and hurt by a straight drive.\\r\\nThe incident came in the final ov… [+1694 chars]'}]}\n"
     ]
    }
   ],
   "source": [
    "print(top_headlines)"
   ]
  },
  {
   "cell_type": "code",
   "execution_count": 11,
   "metadata": {},
   "outputs": [
    {
     "name": "stdout",
     "output_type": "stream",
     "text": [
      "Title: Giants notes: Help on the way as injured veterans rehab in Triple-A - NBC Sports Bay Area\n",
      "Description: A few notable veterans began rehab assignments in Triple-A and soon should be available to help the Giants.\n",
      "Content: SAN FRANCISCO -- The Yankees had six former All-Stars in their lineup on Saturday night. The Giants countered with one that featured five players who were in Triple-A earlier this season, but help sh… [+3489 chars]\n",
      "URL: http://www.nbcsportsbayarea.com/mlb/san-francisco-giants/injured-veterans-triple-a-rehab/1740532/\n",
      "Title: MLB Gameday: Rays at Orioles, Probable Pitchers, Lineups, and more - MLB.com\n",
      "Description: None\n",
      "Content: None\n",
      "URL: https://www.mlb.com/gameday/rays-vs-orioles/2024/06/02/747030\n",
      "Title: Chennedy Carter Rips Caitlin Clark's Skills and Defends Angel Reese amid Viral Videos - Bleacher Report\n",
      "Description: Many basketball fans were excited to see a budding rivalry between the Chicago Sky's Angel Reese and Indiana Fever's Caitlin Clark blossom this year, but…\n",
      "Content: Michael Gonzales/NBAE via Getty Images\n",
      "Many basketball fans were excited to see a budding rivalry between the Chicago Sky's Angel Reese and Indiana Fever's Caitlin Clark blossom this year, but anoth… [+3173 chars]\n",
      "URL: https://bleacherreport.com/articles/10123334-chennedy-carter-rips-caitlin-clarks-skills-and-defends-angel-reese-amid-viral-videos\n"
     ]
    }
   ],
   "source": [
    "count = 0\n",
    "for article in top_headlines['articles']:\n",
    "    print(f\"Title: {article['title']}\")\n",
    "    #print(f\"Author: {article['author']}\")\n",
    "    #print(f\"Source: {article['source']['name']}\")\n",
    "    #print(f\"Published At: {article['publishedAt']}\")\n",
    "    print(f\"Description: {article.get('description', 'No description available')}\")\n",
    "    print(f\"Content: {article.get('content', 'No content available')}\")\n",
    "    print(f\"URL: {article['url']}\")\n",
    "    #print(f\"Image URL: {article.get('urlToImage', 'No image available')}\")\n",
    "    #print(\"\\n\" + \"-\"*50 + \"\\n\")\n",
    "    if count == 2:\n",
    "        break\n",
    "    count += 1"
   ]
  },
  {
   "cell_type": "code",
   "execution_count": 9,
   "metadata": {},
   "outputs": [],
   "source": [
    "import requests\n",
    "from bs4 import BeautifulSoup"
   ]
  },
  {
   "cell_type": "code",
   "execution_count": 10,
   "metadata": {},
   "outputs": [
    {
     "name": "stdout",
     "output_type": "stream",
     "text": [
      "SAN FRANCISCO -- The Yankees had six former All-Stars in their lineup on Saturday night. The Giants countered with one that featured five players who were in Triple-A earlier this season, but help should soon be on the way. \n",
      "Austin Slater, Nick Ahmed and Michael Conforto hit in the top three spots in the lineup for Triple-A Sacramento on Saturday as part of rehab assignments. Slater had a pair of hits and Conforto drew a walk, while Ahmed was 0-for-3 in his first game action since May 9.\n",
      "Conforto appears to be the closest to returning, and manager Bob Melvin said Saturday that the plan all along was for him to play two games and then come back to San Francisco to be evaluated. Barring a setback, it seems likely the Giants will try and get him back in the lineup on Monday in Arizona. \n",
      "The Giants will have to find a way to keep Heliot Ramos on the field when Conforto returns, but that doesn't look all that difficult at the moment. Luis Matos has cooled off, and on Saturday an off day was given to struggling DH Jorge Soler, who took early BP with the hitting coaches.\n",
      "It also shouldn't be too difficult to slide Ahmed back in when he's fully recovered from a wrist sprain. Marco Luciano went on the IL on Friday with a hamstring strain and Ahmed will be physically ready before the 22-year-old, who did a nice job at the plate but struggled defensively. The Giants figure to go with some combination of Ahmed and Brett Wisely at short when they're back to full strength. \n",
      "Wisely started at second base on Saturday because Thairo Estrada has a sore thumb. He is 11-for-31 with seven RBI and Melvin said the quality of his at-bats has \"been fantastic.\"\n",
      "\"For him it's all about swinging at strikes,\" Melvin said. \"Sometimes when you get to the big leagues you want to do a little bit too much. That hasn't really been the case for him. He's swung the bat really well wherever we put him in the lineup, he's had to play a position (shortstop) that he's maybe completely familiar with. Offensively, he's been great all the way around.\"\n",
      "\n",
      "Slater was the first to start a rehab assignment but it's possible he gets more at-bats than the others as he works his way back from a concussion. Slater had just 39 at-bats before crashing into the center field wall and Melvin said earlier this week that the Giants want him to find his groove at the plate before returning. Slater is 3-for-13 with the River Cats so far. \n",
      "After hitting two homers earlier in the game Friday, Aaron Judge flew out to right against Sean Hjelle in the eighth. It was the second matchup between the 6-foot-11 Hjelle and the 6-foot-7 Judge, but they actually don't crack MLB's top three in terms of matchups you'd expect to find on a basketball court. \n",
      "Randy Johnson (6-foot-10) and Daniel Cabrera (6-foot-9) hold the unofficial record for a batter-pitcher matchup with the most combined height. John Rauch (6-foot-11) vs. Richie Sexson (6-foot-8) and Mark Hendrickson (6-foot-9) vs. Chris Young (6-foot-10) round out the top three. Hjelle also faced 6-foot-7 Pittsburgh Pirates shortstop Oneil Cruz this year, although he'll need to wait for a tall prospect to reach MLB to try and break the record. There aren't any current hitters listed as being taller than Judge or Oneil. \n",
      "Jung Hoo Lee finally will have surgery on his dislocated left shoulder next Tuesday in Los Angeles, with Dr. Neal ElAttrache doing the procedure. Lee is expected to make a full recovery by the start of next spring. \n",
      "Melvin said Lee will remain around the team and rehab in San Francisco. The 25-year-old finished his rookie year with a .641 OPS and two homers in 37 appearances. \n",
      "Download and follow the Giants Talk Podcast\n"
     ]
    }
   ],
   "source": [
    "url = \"http://www.nbcsportsbayarea.com/mlb/san-francisco-giants/injured-veterans-triple-a-rehab/1740532/\"\n",
    "\n",
    "# Send a GET request to the webpage\n",
    "response = requests.get(url)\n",
    "# Parse the content of the response\n",
    "soup = BeautifulSoup(response.content, 'html.parser')\n",
    "\n",
    "# Find the main content of the article\n",
    "# You might need to adjust the tag and class based on the webpage's structure\n",
    "article_content = soup.find_all('p')\n",
    "\n",
    "# Print the text content of the article\n",
    "for paragraph in article_content:\n",
    "    print(paragraph.get_text())"
   ]
  },
  {
   "cell_type": "code",
   "execution_count": 16,
   "metadata": {},
   "outputs": [
    {
     "name": "stdout",
     "output_type": "stream",
     "text": [
      "\n",
      "Many basketball fans were excited to see a budding rivalry between the Chicago Sky's Angel Reese and Indiana Fever's Caitlin Clark blossom this year, but another Sky player is building a duel of her own with the 2024 No. 1 overall pick.\n",
      "Chicago's Chennedy Carter was retroactively assessed a flagrant 1 foul for her hip check on Clark during Sunday's 71-70 defeat.\n",
      "She declined to address the sequence in her postgame press conference but subsequently made her feelings toward Clark very clear on social media.\n",
      "In one reply on Threads, Carter criticized the rookie's game:\n",
      "<a href=\"https://t.co/ulVucPtoMB\">pic.twitter.com/ulVucPtoMB</a>\n",
      "\"Beside three point shooting what does she bring to the table man,\" Carter wrote.\n",
      "In another, she called Reese \"my dawg fasho\" after the forward appeared to cheer from the bench after the contact:\n",
      "\n",
      "NBA star Draymond Green, meanwhile, argued the Fever need someone to defend Clark:\n",
      "Draymond Green has entered the chat… <a href=\"https://twitter.com/hashtag/WNBA?src=hash&amp;ref_src=twsrc%5Etfw\">#WNBA</a> <a href=\"https://t.co/aiPXGnSFmm\">pic.twitter.com/aiPXGnSFmm</a>\n",
      "Carter also addressed the talk of an \"enforcer\" on Twitter:\n",
      "we grown asf &amp; y'all talking about enforcer 😂 man gtfoh , hoop or shut up ….\n",
      "Carter's foul immediately became the symbol for two larger narratives that have quickly formed around WNBA discourse: Older veterans \"hate\" Clark and the league is in effect allowing those players to take liberties toward the rookie by not cracking down on foul calls.\n",
      "Carter's remarks on Clark will certainly help to fuel the first storyline.\n",
      "Her attitude isn't all that exceptional, though. No matter the sport, no matter the league, more experienced players are bound to carry a chip on their shoulder when they go up against younger peers. That's especially true when a rookie has as much hype as Caitlin Clark.\n",
      "I didn't hear none of y'all crying when <a href=\"https://twitter.com/GaryPayton?ref_src=twsrc%5Etfw\">@GaryPayton</a> pushed me across the court my rook yr in preseason. 🤣😂🤣😂\n",
      "LeBron James got it from some of his own teammates on the Cleveland Cavaliers when he entered the NBA in 2003. There's an entire legend built around a handful of NBA stars \"freezing out\" Michael Jordan at the 1985 All-Star Game.\n",
      "Rookies always have to earn their stripes and Clark is no different.\n",
      "The extent to which this has already blown up is a good example of why the WNBA would benefit from some interpersonal drama on the court, too. It's good when players or teams are feuding in a way that doesn't cross a clear line.\n",
      "[whispering]<br><br>im enjoying the wnba basketball beefs <br><br>beefs are fun<br><br>that's all ive got here\n",
      "Every WNBA person-- players, former players, broadcasters etc.., -- I've spoken with over the past two years have said that the league needs rivalries to take another step. You are seeing it form. <a href=\"https://t.co/Gp2GbCuqi6\">https://t.co/Gp2GbCuqi6</a>\n",
      "The WNBA has lacked a true signature rivalry.\n",
      "Sue Bird and Diana Taurasi were interconnected throughout their careers, but that always felt less like a rivalry and more a game of one-upmanship between friends. The Los Angeles Sparks and Minnesota Lynx, meanwhile, had a captivating struggle spanning multiple years, but the intrigue has since faded with both franchises falling out of title contention.\n",
      "It's doubtful Carter and Clark will develop any sort of lasting antagonism. Sunday's game at least ensured the return matchup between Chicago and Indiana on June 16 will be appointment viewing.d\n"
     ]
    }
   ],
   "source": [
    "url = \"https://bleacherreport.com/articles/10123334-chennedy-carter-rips-caitlin-clarks-skills-and-defends-angel-reese-amid-viral-videos\"\n",
    "\n",
    "# Send a GET request to the webpage\n",
    "response = requests.get(url)\n",
    "# Parse the content of the response\n",
    "soup = BeautifulSoup(response.content, 'html.parser')\n",
    "\n",
    "# Find the main content of the article\n",
    "# You might need to adjust the tag and class based on the webpage's structure\n",
    "article_content = soup.find_all('p')\n",
    "\n",
    "# Print the text content of the article\n",
    "for paragraph in article_content:\n",
    "    print(paragraph.get_text())"
   ]
  },
  {
   "cell_type": "code",
   "execution_count": null,
   "metadata": {},
   "outputs": [],
   "source": []
  }
 ],
 "metadata": {
  "kernelspec": {
   "display_name": "Python 3",
   "language": "python",
   "name": "python3"
  },
  "language_info": {
   "codemirror_mode": {
    "name": "ipython",
    "version": 3
   },
   "file_extension": ".py",
   "mimetype": "text/x-python",
   "name": "python",
   "nbconvert_exporter": "python",
   "pygments_lexer": "ipython3",
   "version": "3.10.1"
  }
 },
 "nbformat": 4,
 "nbformat_minor": 2
}
